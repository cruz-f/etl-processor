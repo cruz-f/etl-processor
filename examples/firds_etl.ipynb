{
 "cells": [
  {
   "cell_type": "markdown",
   "metadata": {},
   "source": [
    "# FIRDS ETL Process\n",
    "\n",
    "This notebook is an example of how to extract, transform and load financial instruments data in the FIRDS database.\n",
    "\n",
    "Data:\n",
    "- financial instruments data from FIRDS database\n",
    "- url: https://registers.esma.europa.eu/solr/esma_registers_firds_files/select?q=*&fq=publication_date:%5B2021-01-17T00:00:00Z+TO+2021-01-19T23:59:59Z%5D&wt=xml&indent=true&start=0&rows=100\n",
    "- The data is extracted in the XML format and then transformed into a CSV file.\n",
    "- file_type: DLTINS\n",
    "- Extracted attributes:\n",
    "    - FinInstrmGnlAttrbts.Id\n",
    "    - FinInstrmGnlAttrbts.FullNm\n",
    "    - FinInstrmGnlAttrbts.ClssfctnTp\n",
    "    - FinInstrmGnlAttrbts.CmmdtyDerivInd\n",
    "    - FinInstrmGnlAttrbts.NtnlCcy\n",
    "    - Issr\n",
    "- Attributes obtained during the transformation process:\n",
    "    - a_count\n",
    "    - contains_a"
   ]
  },
  {
   "cell_type": "code",
   "execution_count": 1,
   "metadata": {},
   "outputs": [],
   "source": [
    "import pandas as pd\n",
    "\n",
    "from etl_processor import FIRDSExtractor, FIRDSLoader, FIRDSTransformer\n",
    "\n",
    "firds_url = 'https://registers.esma.europa.eu/solr/esma_registers_firds_files/select?q=*&fq=publication_date:%5B2021-01-17T00:00:00Z+TO+2021-01-19T23:59:59Z%5D&wt=xml&indent=true&start=0&rows=100'\n",
    "data_dir = 'data'\n",
    "target_path = 'data/firds_golden.csv'"
   ]
  },
  {
   "cell_type": "markdown",
   "metadata": {},
   "source": [
    "## 1. Extract - FIRDSExtractor"
   ]
  },
  {
   "cell_type": "code",
   "execution_count": 2,
   "metadata": {},
   "outputs": [
    {
     "name": "stderr",
     "output_type": "stream",
     "text": [
      "100%|██████████| 4/4 [01:32<00:00, 23.25s/it]\n"
     ]
    }
   ],
   "source": [
    "extractor = FIRDSExtractor(\n",
    "    firds_url=firds_url,\n",
    "    data_dir=data_dir,\n",
    ")\n",
    "\n",
    "\n",
    "async def main() -> None:\n",
    "    \"\"\"Run extract.\"\"\"\n",
    "    await extractor.arun()\n",
    "\n",
    "\n",
    "await main()"
   ]
  },
  {
   "cell_type": "markdown",
   "metadata": {},
   "source": [
    "## 2. Transform - FIRDSTransformer"
   ]
  },
  {
   "cell_type": "code",
   "execution_count": 3,
   "metadata": {},
   "outputs": [],
   "source": [
    "transformer = FIRDSTransformer(\n",
    "    data_dir=data_dir,\n",
    ")\n",
    "\n",
    "transformer.run()"
   ]
  },
  {
   "cell_type": "markdown",
   "metadata": {},
   "source": [
    "## 3. load - FIRDSLoader"
   ]
  },
  {
   "cell_type": "code",
   "execution_count": 4,
   "metadata": {},
   "outputs": [
    {
     "name": "stderr",
     "output_type": "stream",
     "text": [
      "C:\\Users\\ferna\\OneDrive\\Ambiente de Trabalho\\etl-processor\\etl_processor\\load.py:88: DtypeWarning: Columns (7) have mixed types. Specify dtype option on import or set low_memory=False.\n",
      "  df = pd.read_csv(self.firds_csv_path)\n"
     ]
    }
   ],
   "source": [
    "loader = FIRDSLoader(\n",
    "    data_dir=data_dir,\n",
    "    system='file',\n",
    "    target_path=target_path,\n",
    ")\n",
    "\n",
    "loader.run()"
   ]
  },
  {
   "cell_type": "markdown",
   "metadata": {},
   "source": [
    "## Data Analysis"
   ]
  },
  {
   "cell_type": "code",
   "execution_count": 5,
   "metadata": {},
   "outputs": [
    {
     "name": "stderr",
     "output_type": "stream",
     "text": [
      "C:\\Users\\ferna\\AppData\\Local\\Temp\\ipykernel_21308\\1785129476.py:1: DtypeWarning: Columns (7) have mixed types. Specify dtype option on import or set low_memory=False.\n",
      "  df = pd.read_csv(target_path)\n"
     ]
    },
    {
     "data": {
      "text/html": [
       "<div>\n",
       "<style scoped>\n",
       "    .dataframe tbody tr th:only-of-type {\n",
       "        vertical-align: middle;\n",
       "    }\n",
       "\n",
       "    .dataframe tbody tr th {\n",
       "        vertical-align: top;\n",
       "    }\n",
       "\n",
       "    .dataframe thead th {\n",
       "        text-align: right;\n",
       "    }\n",
       "</style>\n",
       "<table border=\"1\" class=\"dataframe\">\n",
       "  <thead>\n",
       "    <tr style=\"text-align: right;\">\n",
       "      <th></th>\n",
       "      <th>FinInstrmGnlAttrbts.Id</th>\n",
       "      <th>FinInstrmGnlAttrbts.FullNm</th>\n",
       "      <th>FinInstrmGnlAttrbts.ClssfctnTp</th>\n",
       "      <th>FinInstrmGnlAttrbts.CmmdtyDerivInd</th>\n",
       "      <th>FinInstrmGnlAttrbts.NtnlCcy</th>\n",
       "      <th>Issr</th>\n",
       "      <th>a_count</th>\n",
       "      <th>contains_a</th>\n",
       "    </tr>\n",
       "  </thead>\n",
       "  <tbody>\n",
       "    <tr>\n",
       "      <th>641830</th>\n",
       "      <td>XS2256949749</td>\n",
       "      <td>ABERTIS INFRAESTRUCTURAS FINANCE B.V. €1,250,0...</td>\n",
       "      <td>DBFXQB</td>\n",
       "      <td>False</td>\n",
       "      <td>EUR</td>\n",
       "      <td>5493007WHKI5H75YJ358</td>\n",
       "      <td>14.0</td>\n",
       "      <td>True</td>\n",
       "    </tr>\n",
       "    <tr>\n",
       "      <th>665688</th>\n",
       "      <td>GB00BJ345J52</td>\n",
       "      <td>HSBC BANK PLC Issue of 3,000 Volatility Disper...</td>\n",
       "      <td>RWITCE</td>\n",
       "      <td>False</td>\n",
       "      <td>USD</td>\n",
       "      <td>MP6I5ZYZBEU3UXPYFY54</td>\n",
       "      <td>11.0</td>\n",
       "      <td>True</td>\n",
       "    </tr>\n",
       "    <tr>\n",
       "      <th>45413</th>\n",
       "      <td>GB00BJ345J52</td>\n",
       "      <td>HSBC BANK PLC Issue of 3,000 Volatility Disper...</td>\n",
       "      <td>RWITCE</td>\n",
       "      <td>False</td>\n",
       "      <td>USD</td>\n",
       "      <td>MP6I5ZYZBEU3UXPYFY54</td>\n",
       "      <td>11.0</td>\n",
       "      <td>True</td>\n",
       "    </tr>\n",
       "    <tr>\n",
       "      <th>365276</th>\n",
       "      <td>DE000HV4J2M3</td>\n",
       "      <td>Cash Collect Worst of con effetto memoria Quan...</td>\n",
       "      <td>DEEVRB</td>\n",
       "      <td>False</td>\n",
       "      <td>EUR</td>\n",
       "      <td>2ZCNRR8UK83OBTEK2170</td>\n",
       "      <td>10.0</td>\n",
       "      <td>True</td>\n",
       "    </tr>\n",
       "    <tr>\n",
       "      <th>991424</th>\n",
       "      <td>DE000MF72273</td>\n",
       "      <td>Faktor 2x Short Canadian National Railway emit...</td>\n",
       "      <td>RFSTPA</td>\n",
       "      <td>False</td>\n",
       "      <td>EUR</td>\n",
       "      <td>4PQUHN3JPFGFNF3BB653</td>\n",
       "      <td>10.0</td>\n",
       "      <td>True</td>\n",
       "    </tr>\n",
       "  </tbody>\n",
       "</table>\n",
       "</div>"
      ],
      "text/plain": [
       "       FinInstrmGnlAttrbts.Id  \\\n",
       "641830           XS2256949749   \n",
       "665688           GB00BJ345J52   \n",
       "45413            GB00BJ345J52   \n",
       "365276           DE000HV4J2M3   \n",
       "991424           DE000MF72273   \n",
       "\n",
       "                               FinInstrmGnlAttrbts.FullNm  \\\n",
       "641830  ABERTIS INFRAESTRUCTURAS FINANCE B.V. €1,250,0...   \n",
       "665688  HSBC BANK PLC Issue of 3,000 Volatility Disper...   \n",
       "45413   HSBC BANK PLC Issue of 3,000 Volatility Disper...   \n",
       "365276  Cash Collect Worst of con effetto memoria Quan...   \n",
       "991424  Faktor 2x Short Canadian National Railway emit...   \n",
       "\n",
       "       FinInstrmGnlAttrbts.ClssfctnTp  FinInstrmGnlAttrbts.CmmdtyDerivInd  \\\n",
       "641830                         DBFXQB                               False   \n",
       "665688                         RWITCE                               False   \n",
       "45413                          RWITCE                               False   \n",
       "365276                         DEEVRB                               False   \n",
       "991424                         RFSTPA                               False   \n",
       "\n",
       "       FinInstrmGnlAttrbts.NtnlCcy                  Issr  a_count contains_a  \n",
       "641830                         EUR  5493007WHKI5H75YJ358     14.0       True  \n",
       "665688                         USD  MP6I5ZYZBEU3UXPYFY54     11.0       True  \n",
       "45413                          USD  MP6I5ZYZBEU3UXPYFY54     11.0       True  \n",
       "365276                         EUR  2ZCNRR8UK83OBTEK2170     10.0       True  \n",
       "991424                         EUR  4PQUHN3JPFGFNF3BB653     10.0       True  "
      ]
     },
     "execution_count": 5,
     "metadata": {},
     "output_type": "execute_result"
    }
   ],
   "source": [
    "df = pd.read_csv(target_path)\n",
    "df = df.sort_values(by='a_count', ascending=False)\n",
    "df.head()"
   ]
  }
 ],
 "metadata": {
  "kernelspec": {
   "display_name": "etl-processor-ps6kJo5T-py3.13",
   "language": "python",
   "name": "python3"
  },
  "language_info": {
   "codemirror_mode": {
    "name": "ipython",
    "version": 3
   },
   "file_extension": ".py",
   "mimetype": "text/x-python",
   "name": "python",
   "nbconvert_exporter": "python",
   "pygments_lexer": "ipython3",
   "version": "3.13.0"
  }
 },
 "nbformat": 4,
 "nbformat_minor": 2
}
